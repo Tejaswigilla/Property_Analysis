{
 "cells": [
  {
   "cell_type": "code",
   "execution_count": 26,
   "metadata": {},
   "outputs": [],
   "source": [
    "import pandas as pd\n",
    "import matplotlib.pyplot as plt\n",
    "%matplotlib inline\n",
    "import seaborn as sns"
   ]
  },
  {
   "cell_type": "code",
   "execution_count": 27,
   "metadata": {},
   "outputs": [],
   "source": [
    "df=pd.read_excel('current.xlsx',index_col=0)"
   ]
  },
  {
   "cell_type": "code",
   "execution_count": 28,
   "metadata": {},
   "outputs": [
    {
     "data": {
      "text/plain": [
       "(25715, 7)"
      ]
     },
     "execution_count": 28,
     "metadata": {},
     "output_type": "execute_result"
    }
   ],
   "source": [
    "df.shape"
   ]
  },
  {
   "cell_type": "code",
   "execution_count": 29,
   "metadata": {
    "collapsed": true
   },
   "outputs": [
    {
     "data": {
      "text/plain": [
       "Residential Plot            14642\n",
       "3 BHK Apartment              4071\n",
       "2 BHK Apartment              3532\n",
       "2 BHK Independent House       832\n",
       "3 BHK Villa                   440\n",
       "4 BHK Villa                   422\n",
       "4 BHK Apartment               381\n",
       "1 BHK Apartment               321\n",
       "3 BHK Independent House       232\n",
       "1 BHK Independent House       179\n",
       "4 BHK Independent House       172\n",
       "2 BHK Independent Floor        68\n",
       "5 BHK Apartment                54\n",
       "5 BHK Villa                    52\n",
       "2 BHK Villa                    50\n",
       "5 BHK Independent House        47\n",
       "6 BHK Independent House        45\n",
       "3 BHK Independent Floor        39\n",
       "7 BHK Independent House        20\n",
       "4 BHK Independent Floor        16\n",
       "1 BHK Independent Floor        16\n",
       "10 BHK Independent House       14\n",
       "6 BHK Apartment                 9\n",
       "1 RK Studio Apartment           9\n",
       "9 BHK Independent House         7\n",
       "8 BHK Independent House         6\n",
       "1 BHK Villa                     6\n",
       "6 BHK Independent Floor         5\n",
       "6 BHK Villa                     4\n",
       "7 BHK Villa                     2\n",
       "11 BHK Independent House        2\n",
       "5 BHK Penthouse                 2\n",
       "9 BHK Apartment                 2\n",
       "10 BHK Apartment                2\n",
       "9 BHK Independent Floor         2\n",
       "5 BHK Independent Floor         2\n",
       "12 BHK Independent House        2\n",
       "10 BHK Independent Floor        1\n",
       "11 BHK Villa                    1\n",
       "12 BHK Villa                    1\n",
       "2 BHK Penthouse                 1\n",
       "12 BHK Independent Floor        1\n",
       "4 BHK Penthouse                 1\n",
       "8 BHK Villa                     1\n",
       "8 BHK Independent Floor         1\n",
       "Name: title, dtype: int64"
      ]
     },
     "execution_count": 29,
     "metadata": {},
     "output_type": "execute_result"
    }
   ],
   "source": [
    "df['title'].value_counts()"
   ]
  },
  {
   "cell_type": "code",
   "execution_count": 30,
   "metadata": {},
   "outputs": [],
   "source": [
    "df.set_index(keys='title',inplace=True)"
   ]
  },
  {
   "cell_type": "code",
   "execution_count": 31,
   "metadata": {},
   "outputs": [
    {
     "data": {
      "text/plain": [
       "(25715, 6)"
      ]
     },
     "execution_count": 31,
     "metadata": {},
     "output_type": "execute_result"
    }
   ],
   "source": [
    "df.shape"
   ]
  },
  {
   "cell_type": "markdown",
   "metadata": {},
   "source": [
    "# Residential Plot's"
   ]
  },
  {
   "cell_type": "code",
   "execution_count": 32,
   "metadata": {},
   "outputs": [
    {
     "data": {
      "text/plain": [
       "(14642, 7)"
      ]
     },
     "execution_count": 32,
     "metadata": {},
     "output_type": "execute_result"
    }
   ],
   "source": [
    "d1=df.filter(like='Residential Plot',axis=0)\n",
    "d1.reset_index(inplace=True)\n",
    "d1.shape"
   ]
  },
  {
   "cell_type": "code",
   "execution_count": 57,
   "metadata": {},
   "outputs": [
    {
     "data": {
      "image/png": "[encoded data removed]",
      "text/plain": [
       "<Figure size 432x288 with 1 Axes>"
      ]
     },
     "metadata": {
      "needs_background": "light"
     },
     "output_type": "display_data"
    }
   ],
   "source": [
    "d_1=d1['title'].value_counts().plot.bar()\n",
    "plt.yscale('log')"
   ]
  },
  {
   "cell_type": "markdown",
   "metadata": {},
   "source": [
    "# Apartment's"
   ]
  },
  {
   "cell_type": "code",
   "execution_count": 33,
   "metadata": {},
   "outputs": [
    {
     "data": {
      "text/plain": [
       "(8381, 7)"
      ]
     },
     "execution_count": 33,
     "metadata": {},
     "output_type": "execute_result"
    }
   ],
   "source": [
    "d2=df.filter(like='Apartment',axis=0)\n",
    "d2.reset_index(inplace=True)\n",
    "d2.shape"
   ]
  },
  {
   "cell_type": "code",
   "execution_count": 34,
   "metadata": {},
   "outputs": [
    {
     "data": {
      "text/plain": [
       "3 BHK Apartment          4071\n",
       "2 BHK Apartment          3532\n",
       "4 BHK Apartment           381\n",
       "1 BHK Apartment           321\n",
       "5 BHK Apartment            54\n",
       "1 RK Studio Apartment       9\n",
       "6 BHK Apartment             9\n",
       "9 BHK Apartment             2\n",
       "10 BHK Apartment            2\n",
       "Name: title, dtype: int64"
      ]
     },
     "execution_count": 34,
     "metadata": {},
     "output_type": "execute_result"
    }
   ],
   "source": [
    "d4=d2['title'].value_counts()\n",
    "d4"
   ]
  },
  {
   "cell_type": "code",
   "execution_count": 35,
   "metadata": {},
   "outputs": [
    {
     "data": {
      "image/png": "[encoded data removed]",
      "text/plain": [
       "<Figure size 432x288 with 1 Axes>"
      ]
     },
     "metadata": {
      "needs_background": "light"
     },
     "output_type": "display_data"
    }
   ],
   "source": [
    "d4.plot.bar()\n",
    "plt.yscale('log')"
   ]
  },
  {
   "cell_type": "markdown",
   "metadata": {},
   "source": [
    "# Villa's"
   ]
  },
  {
   "cell_type": "code",
   "execution_count": 36,
   "metadata": {},
   "outputs": [
    {
     "data": {
      "text/plain": [
       "(979, 7)"
      ]
     },
     "execution_count": 36,
     "metadata": {},
     "output_type": "execute_result"
    }
   ],
   "source": [
    "d3=df.filter(like='Villa',axis=0)\n",
    "d3.reset_index(inplace=True)\n",
    "d3.shape "
   ]
  },
  {
   "cell_type": "code",
   "execution_count": 37,
   "metadata": {},
   "outputs": [
    {
     "data": {
      "text/plain": [
       "3 BHK Villa     440\n",
       "4 BHK Villa     422\n",
       "5 BHK Villa      52\n",
       "2 BHK Villa      50\n",
       "1 BHK Villa       6\n",
       "6 BHK Villa       4\n",
       "7 BHK Villa       2\n",
       "11 BHK Villa      1\n",
       "12 BHK Villa      1\n",
       "8 BHK Villa       1\n",
       "Name: title, dtype: int64"
      ]
     },
     "execution_count": 37,
     "metadata": {},
     "output_type": "execute_result"
    }
   ],
   "source": [
    "d3_1=d3['title'].value_counts()\n",
    "d3_1"
   ]
  },
  {
   "cell_type": "code",
   "execution_count": 50,
   "metadata": {},
   "outputs": [
    {
     "data": {
      "text/plain": [
       "<matplotlib.axes._subplots.AxesSubplot at 0x1db1ada5710>"
      ]
     },
     "execution_count": 50,
     "metadata": {},
     "output_type": "execute_result"
    },
    {
     "data": {
      "image/png": "[encoded data removed]",
      "text/plain": [
       "<Figure size 432x288 with 1 Axes>"
      ]
     },
     "metadata": {
      "needs_background": "light"
     },
     "output_type": "display_data"
    }
   ],
   "source": [
    "d3_1.plot.bar()"
   ]
  },
  {
   "cell_type": "markdown",
   "metadata": {},
   "source": [
    "# Independent House"
   ]
  },
  {
   "cell_type": "code",
   "execution_count": 39,
   "metadata": {},
   "outputs": [
    {
     "data": {
      "text/plain": [
       "(1558, 7)"
      ]
     },
     "execution_count": 39,
     "metadata": {},
     "output_type": "execute_result"
    }
   ],
   "source": [
    "d4_=df.filter(like='Independent House',axis=0)\n",
    "d4_.reset_index(inplace=True)\n",
    "d4_.shape "
   ]
  },
  {
   "cell_type": "code",
   "execution_count": 40,
   "metadata": {},
   "outputs": [
    {
     "data": {
      "text/plain": [
       "2 BHK Independent House     832\n",
       "3 BHK Independent House     232\n",
       "1 BHK Independent House     179\n",
       "4 BHK Independent House     172\n",
       "5 BHK Independent House      47\n",
       "6 BHK Independent House      45\n",
       "7 BHK Independent House      20\n",
       "10 BHK Independent House     14\n",
       "9 BHK Independent House       7\n",
       "8 BHK Independent House       6\n",
       "12 BHK Independent House      2\n",
       "11 BHK Independent House      2\n",
       "Name: title, dtype: int64"
      ]
     },
     "execution_count": 40,
     "metadata": {},
     "output_type": "execute_result"
    }
   ],
   "source": [
    "d4__1=d4_['title'].value_counts()\n",
    "d4__1"
   ]
  },
  {
   "cell_type": "code",
   "execution_count": 41,
   "metadata": {},
   "outputs": [
    {
     "data": {
      "image/png": "[encoded data removed]",
      "text/plain": [
       "<Figure size 432x288 with 1 Axes>"
      ]
     },
     "metadata": {
      "needs_background": "light"
     },
     "output_type": "display_data"
    }
   ],
   "source": [
    "d4__1.plot.bar()\n",
    "plt.yscale('log')"
   ]
  },
  {
   "cell_type": "markdown",
   "metadata": {},
   "source": [
    "# Independent Floor"
   ]
  },
  {
   "cell_type": "code",
   "execution_count": 42,
   "metadata": {},
   "outputs": [
    {
     "data": {
      "text/plain": [
       "(151, 7)"
      ]
     },
     "execution_count": 42,
     "metadata": {},
     "output_type": "execute_result"
    }
   ],
   "source": [
    "d5=df.filter(like='Independent Floor',axis=0)\n",
    "d5.reset_index(inplace=True)\n",
    "d5.shape "
   ]
  },
  {
   "cell_type": "code",
   "execution_count": 43,
   "metadata": {},
   "outputs": [
    {
     "data": {
      "text/plain": [
       "2 BHK Independent Floor     68\n",
       "3 BHK Independent Floor     39\n",
       "1 BHK Independent Floor     16\n",
       "4 BHK Independent Floor     16\n",
       "6 BHK Independent Floor      5\n",
       "5 BHK Independent Floor      2\n",
       "9 BHK Independent Floor      2\n",
       "12 BHK Independent Floor     1\n",
       "8 BHK Independent Floor      1\n",
       "10 BHK Independent Floor     1\n",
       "Name: title, dtype: int64"
      ]
     },
     "execution_count": 43,
     "metadata": {},
     "output_type": "execute_result"
    }
   ],
   "source": [
    "d5_1=d5['title'].value_counts()\n",
    "d5_1"
   ]
  },
  {
   "cell_type": "code",
   "execution_count": 49,
   "metadata": {},
   "outputs": [
    {
     "data": {
      "text/plain": [
       "<matplotlib.axes._subplots.AxesSubplot at 0x1db1cb38518>"
      ]
     },
     "execution_count": 49,
     "metadata": {},
     "output_type": "execute_result"
    },
    {
     "data": {
      "image/png": "[encoded data removed]",
      "text/plain": [
       "<Figure size 432x288 with 1 Axes>"
      ]
     },
     "metadata": {
      "needs_background": "light"
     },
     "output_type": "display_data"
    }
   ],
   "source": [
    "d5_1.plot.bar()"
   ]
  },
  {
   "cell_type": "markdown",
   "metadata": {},
   "source": [
    "# Penthouse"
   ]
  },
  {
   "cell_type": "code",
   "execution_count": 45,
   "metadata": {},
   "outputs": [
    {
     "data": {
      "text/plain": [
       "(4, 7)"
      ]
     },
     "execution_count": 45,
     "metadata": {},
     "output_type": "execute_result"
    }
   ],
   "source": [
    "d6=df.filter(like='Penthouse',axis=0)\n",
    "d6.reset_index(inplace=True)\n",
    "d6.shape"
   ]
  },
  {
   "cell_type": "code",
   "execution_count": 46,
   "metadata": {},
   "outputs": [
    {
     "data": {
      "text/plain": [
       "5 BHK Penthouse    2\n",
       "4 BHK Penthouse    1\n",
       "2 BHK Penthouse    1\n",
       "Name: title, dtype: int64"
      ]
     },
     "execution_count": 46,
     "metadata": {},
     "output_type": "execute_result"
    }
   ],
   "source": [
    "d6_1=d6['title'].value_counts()\n",
    "d6_1"
   ]
  },
  {
   "cell_type": "code",
   "execution_count": 48,
   "metadata": {},
   "outputs": [
    {
     "data": {
      "text/plain": [
       "<matplotlib.axes._subplots.AxesSubplot at 0x1db1c3dd400>"
      ]
     },
     "execution_count": 48,
     "metadata": {},
     "output_type": "execute_result"
    },
    {
     "data": {
      "image/png": "[encoded data removed]",
      "text/plain": [
       "<Figure size 432x288 with 1 Axes>"
      ]
     },
     "metadata": {
      "needs_background": "light"
     },
     "output_type": "display_data"
    }
   ],
   "source": [
    "d6_1.plot.bar()"
   ]
  },
  {
   "cell_type": "markdown",
   "metadata": {},
   "source": [
    "# Building Status"
   ]
  },
  {
   "cell_type": "code",
   "execution_count": 54,
   "metadata": {},
   "outputs": [
    {
     "data": {
      "text/plain": [
       "New                   12868\n",
       "Ready to move          5800\n",
       "Under Construction     5273\n",
       "Resale                 1774\n",
       "Name: building_status, dtype: int64"
      ]
     },
     "execution_count": 54,
     "metadata": {},
     "output_type": "execute_result"
    }
   ],
   "source": [
    "df1=df['building_status'].value_counts()\n",
    "df1"
   ]
  },
  {
   "cell_type": "code",
   "execution_count": 55,
   "metadata": {},
   "outputs": [
    {
     "data": {
      "image/png": "[encoded data removed]",
      "text/plain": [
       "<Figure size 432x288 with 1 Axes>"
      ]
     },
     "metadata": {
      "needs_background": "light"
     },
     "output_type": "display_data"
    }
   ],
   "source": [
    "df1.plot.bar()\n",
    "plt.yscale('log')"
   ]
  },
  {
   "cell_type": "code",
   "execution_count": null,
   "metadata": {},
   "outputs": [],
   "source": []
  }
 ],
 "metadata": {
  "kernelspec": {
   "display_name": "Python 3",
   "language": "python",
   "name": "python3"
  },
  "language_info": {
   "codemirror_mode": {
    "name": "ipython",
    "version": 3
   },
   "file_extension": ".py",
   "mimetype": "text/x-python",
   "name": "python",
   "nbconvert_exporter": "python",
   "pygments_lexer": "ipython3",
   "version": "3.6.8"
  }
 },
 "nbformat": 4,
 "nbformat_minor": 2
}
